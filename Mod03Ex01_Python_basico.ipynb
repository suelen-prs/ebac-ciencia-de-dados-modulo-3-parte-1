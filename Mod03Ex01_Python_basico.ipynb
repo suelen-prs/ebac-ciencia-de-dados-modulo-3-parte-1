{
  "cells": [
    {
      "cell_type": "markdown",
      "metadata": {
        "id": "ZoiXg8neeUrO"
      },
      "source": [
        "### 01 - Teste de gravidez\n",
        "Escreva uma célula com controle de fluxos que tem como premissa a existência das seguintes variáveis:\n",
        "\n",
        "- ```sexo``` como ```str``` indicando os valores '**M**' para masculino e '**F**' para feminino  \n",
        "- ```beta_hcg``` que indica a quantidade do beta-HCG no sangue em mUI/mL.\n",
        "\n",
        "A sua tarefa é escrever um código que imprima como resultado \"indivíduo do sexo masculino\" quando sexo = 'M', caso sexo = 'F', se o valor de beta-HCG for maior que 5, retorne \"Positivo\" indicando que a paciente está grávida, e retorne \"Negativo\" caso contrário.\n",
        "\n",
        "Não mexa nos valores da variável ```sexo``` nem em ```beta_hcg```, e escreva um código que funcione para quaisquer valores possíveis de ambos: ```sexo``` = '**M**' ou '**F**' e ```beta_hcg``` assumindo valores inteiros positivos."
      ]
    },
    {
      "cell_type": "code",
      "execution_count": null,
      "metadata": {
        "colab": {
          "base_uri": "https://localhost:8080/"
        },
        "id": "V9VANbrveUrS",
        "outputId": "d22b8bb5-bc8a-4406-eb02-923dd1524924"
      },
      "outputs": [
        {
          "output_type": "stream",
          "name": "stdout",
          "text": [
            "Sexo: F\n",
            "Beta-HCG: 7\n",
            "Positivo\n"
          ]
        }
      ],
      "source": [
        "# sexo = 'M'\n",
        "# beta_hcg = 0\n",
        "\n",
        "sexo = input(\"Sexo: \")\n",
        "beta_hcg = int(input(\"Beta-HCG: \"))\n",
        "\n",
        "if sexo == \"M\":\n",
        "  print(\"Indivíduo do sexo masculino\")\n",
        "elif sexo == \"F\" and beta_hcg > 5:\n",
        "  print(\"Positivo\")\n",
        "elif sexo == \"F\" and beta_hcg <= 5:\n",
        "  print(\"Negativo\")\n",
        "else:\n",
        "  print(\"Não entendi sua resposta\")\n",
        "\n",
        "# seu código vem abaixo desta linha\n"
      ]
    },
    {
      "cell_type": "markdown",
      "metadata": {
        "id": "tHoXSMs1eUrU"
      },
      "source": [
        "### 02 - Renomeando variáveis\n",
        "\n",
        "Vamos ver adiante que uma forma de renomear variáveis de um conjunto de dados é através de dicionários - o dicionário deve conter como chave o nome original, associando a cada chave um único valor (tipo *str*) que contenha o nome novo.\n",
        "\n",
        "A sua tarefa é escrever um dicionário que possa ser utilizado para traduzir as variáveis ```name``` (nome), ```age``` (idade) e ```income``` (renda). Ou seja, esse dicionário deve relacionar as chaves *name, age* e *income* às suas respectivas traduções."
      ]
    },
    {
      "cell_type": "code",
      "execution_count": null,
      "metadata": {
        "colab": {
          "base_uri": "https://localhost:8080/"
        },
        "id": "fwIyL7sWeUrV",
        "outputId": "9ac8ab34-1d2b-40fc-bdf0-7398d81db78d"
      },
      "outputs": [
        {
          "output_type": "execute_result",
          "data": {
            "text/plain": [
              "{'name': 'nome', 'age': 'idade', 'income': 'renda'}"
            ]
          },
          "metadata": {},
          "execution_count": 8
        }
      ],
      "source": [
        "dic_renomeacao = {'name': 'nome', 'age': 'idade', 'income': 'renda'}\n",
        "dic_renomeacao"
      ]
    },
    {
      "cell_type": "markdown",
      "metadata": {
        "id": "s3olUwLseUrW"
      },
      "source": [
        "### 03 - É divisível?\n",
        "A sua tarefa é escrever um código que indique se um número ```N``` é divisível por um número P. Escreva um programa que faça essa verificação para quaisquer combinações de ```N``` e ```M``` e devolva uma mensagem indicativa no output."
      ]
    },
    {
      "cell_type": "code",
      "execution_count": null,
      "metadata": {
        "colab": {
          "base_uri": "https://localhost:8080/"
        },
        "id": "hPgpRb_qeUrW",
        "outputId": "58739b0d-8af1-4027-886f-82536ada2e7b"
      },
      "outputs": [
        {
          "output_type": "stream",
          "name": "stdout",
          "text": [
            "N = 5\n",
            "M = 0\n",
            "Erro, divisor não pode ser igual a 0\n"
          ]
        }
      ],
      "source": [
        "# Essa questão poderia ficar mais clara, pois o que impossibilida um numero ser divido por outro é se o numero divisor for igual a 0.\n",
        "\n",
        "# N = 42\n",
        "# M = 7\n",
        "\n",
        "N = int(input(\"N = \"))\n",
        "M = int(input(\"M = \"))\n",
        "\n",
        "if N >= 0 and M > 0:\n",
        "  result = N/M\n",
        "  print(\"N é divisivel por M\", result)\n",
        "elif M == 0:\n",
        "  print(\"Erro, divisor não pode ser igual a 0\")\n",
        "else:\n",
        "  print(\"Não entendi, por favor reenicie o programa\")\n",
        "\n",
        "\n"
      ]
    },
    {
      "cell_type": "markdown",
      "metadata": {
        "id": "FA4NRAWMeUrX"
      },
      "source": [
        "### 04 - Números primos\n",
        "> Um número **N** é primo se e somente se é divisível por 1, -1, por **N** e por -**N**.  \n",
        "\n",
        "Escreva um script que verifica se ```N``` é um número primo, verificando se ```N``` é divisível por todos os números de ```1``` a ```N-1```. Você vai precisar usar alguma ferramenta de *loop* que você aprendeu para isto. No final, devolva uma mensagem no output indicando se o número é primo ou não."
      ]
    },
    {
      "cell_type": "code",
      "execution_count": null,
      "metadata": {
        "id": "pv2XY7ECeUrY",
        "colab": {
          "base_uri": "https://localhost:8080/"
        },
        "outputId": "2106fa67-4574-431a-d6b4-683ac79f6e32"
      },
      "outputs": [
        {
          "output_type": "stream",
          "name": "stdout",
          "text": [
            "47 primo\n"
          ]
        }
      ],
      "source": [
        "N = 47\n",
        "primo = 0\n",
        "\n",
        "for i in range(1, (N + 1)):        \n",
        "  if N % i == 0:\n",
        "    primo += 1\n",
        "    \n",
        "if primo  == 2 :\n",
        "  print(f'{N} primo')\n",
        "else:\n",
        "  print(f'{N} nao é primo')\n"
      ]
    },
    {
      "cell_type": "markdown",
      "metadata": {
        "id": "xSXSf6WCeUrY"
      },
      "source": [
        "### 05 - Desafio\n",
        "O algorítmo do exercício anterior não é o mais eficiente. O que você pode fazer para deixá-lo mais eficiente? Ou seja, executar menos comparações, portanto consumir menos tempo.\n",
        "1. Será que precisamos correr o loop até o final sempre?\n",
        "2. Será que precisamos mesmo verificar **todos** os números?\n",
        "3. Será que precisamos ir até N-1?\n",
        "\n",
        "Essas perguntas levam ao tipo de pensamento voltado a deixar um algoritmo mais eficiente. Veja se você consegue melhorar o seu."
      ]
    },
    {
      "cell_type": "code",
      "execution_count": null,
      "metadata": {
        "id": "sYnuJB3MeUrY",
        "colab": {
          "base_uri": "https://localhost:8080/"
        },
        "outputId": "0b1328e2-96c2-4025-9ab4-4f87d3829ada"
      },
      "outputs": [
        {
          "output_type": "stream",
          "name": "stdout",
          "text": [
            "98 nao é primo\n"
          ]
        }
      ],
      "source": [
        "N = 98\n",
        "primo = 0\n",
        "\n",
        "for i in range(1, (N + 1)):        \n",
        "  if N % i == 0:\n",
        "    primo += 1\n",
        "    \n",
        "if primo  == 2 :\n",
        "  print(f'{N} primo')\n",
        "else:\n",
        "  print(f'{N} nao é primo')"
      ]
    },
    {
      "cell_type": "markdown",
      "metadata": {
        "id": "JhkutAfReUrZ"
      },
      "source": [
        "### 06 - Peso ideal 1\n",
        "O IMC (índice de massa corpórea) é um indicador de saúde mais bem aceito que o peso. Ele é calculado como:\n",
        "\n",
        "$$ IMC = \\dfrac{peso}{altura^2}$$\n",
        "\n",
        "Segundo a OMS, valores *normais* são entre 18.5 e 24.9.\n",
        "\n",
        "Sua tarefa é encontrar o ponto médio dessa faixa."
      ]
    },
    {
      "cell_type": "code",
      "execution_count": null,
      "metadata": {
        "id": "S-Q9y1yoeUrZ",
        "outputId": "cd48e7ea-251d-4b79-b23c-226e7465c0f9",
        "colab": {
          "base_uri": "https://localhost:8080/"
        }
      },
      "outputs": [
        {
          "output_type": "execute_result",
          "data": {
            "text/plain": [
              "21.7"
            ]
          },
          "metadata": {},
          "execution_count": 51
        }
      ],
      "source": [
        "imc_ideal = 18.5 + ((24.9 - 18.5) / 2)\n",
        "imc_ideal\n",
        "\n"
      ]
    },
    {
      "cell_type": "markdown",
      "metadata": {
        "id": "tgsjrgCneUrZ"
      },
      "source": [
        "### 07 - Peso ideal 2\n",
        "Recebendo um valor de altura, encontre o peso '*ideal*' dessa pessoa, que fornece o IMC encontrado acima"
      ]
    },
    {
      "cell_type": "code",
      "execution_count": null,
      "metadata": {
        "id": "qSnTrLUSeUra",
        "outputId": "ecd2fa93-74e1-4494-e5fe-5dbaa7b135da",
        "colab": {
          "base_uri": "https://localhost:8080/"
        }
      },
      "outputs": [
        {
          "output_type": "stream",
          "name": "stdout",
          "text": [
            "Peso ideal: 62.71Kg\n"
          ]
        }
      ],
      "source": [
        "altura = 1.70\n",
        "\n",
        "peso_ideal = 1.70**2 * 21.70\n",
        "print('Peso ideal: %.2fKg' % peso_ideal)"
      ]
    },
    {
      "cell_type": "markdown",
      "metadata": {
        "id": "aFwMW90TeUra"
      },
      "source": [
        "### 08 - Peso ideal 3\n",
        "Dada uma lista contendo as alturas de pacientes, crie uma nova lista que contenha o peso '*ideal*' (que fornece o IMC calculado em **Peso ideal 1**) desses pacientes."
      ]
    },
    {
      "cell_type": "code",
      "execution_count": null,
      "metadata": {
        "id": "p9oUpIszeUra",
        "outputId": "9586dc55-948e-486d-83ad-63e500d3f581",
        "colab": {
          "base_uri": "https://localhost:8080/"
        }
      },
      "outputs": [
        {
          "output_type": "execute_result",
          "data": {
            "text/plain": [
              "[82.51424999999999, 91.19425, 62.712999999999994, 59.07824999999999]"
            ]
          },
          "metadata": {},
          "execution_count": 63
        }
      ],
      "source": [
        "lista_alturas = [1.95, 2.05, 1.70, 1.65]\n",
        "lista_peso_ideal = []\n",
        "\n",
        "\n",
        "for i in lista_alturas:\n",
        "  imc = ((i ** 2) * 21.70)\n",
        "  lista_peso_ideal.append(imc)\n",
        "\n",
        "\n",
        "lista_peso_ideal"
      ]
    },
    {
      "cell_type": "markdown",
      "metadata": {
        "id": "z9Y1mASQeUrb"
      },
      "source": [
        "### 09 - Peso ideal 4\n",
        "Dada uma lista de tuplas - cada elemento da lista é uma tupla contendo altura e peso de um paciente - crie uma nova lista com o IMC desses pacientes."
      ]
    },
    {
      "cell_type": "code",
      "execution_count": null,
      "metadata": {
        "id": "yhdo2Cb7eUrb",
        "outputId": "bd5c2820-2f81-466e-deaa-b0d7c7a0c0bd",
        "colab": {
          "base_uri": "https://localhost:8080/"
        }
      },
      "outputs": [
        {
          "output_type": "execute_result",
          "data": {
            "text/plain": [
              "[27.777777777777775, 27.548209366391188, 19.188070502453332]"
            ]
          },
          "metadata": {},
          "execution_count": 66
        }
      ],
      "source": [
        "altura_peso = [(1.80, 90), (1.65, 75), (1.91, 70)]\n",
        "\n",
        "imc = []\n",
        "\n",
        "for i, j in altura_peso:\n",
        "  calc = j / (i ** 2)\n",
        "  imc.append(calc)\n",
        "\n",
        "\n",
        "imc"
      ]
    },
    {
      "cell_type": "markdown",
      "metadata": {
        "id": "khJme6xzeUrb"
      },
      "source": [
        "### 10 - Peso ideal 5\n",
        "Dada uma lista de **listas** - cada elemento da lista é uma **lista** contendo altura e peso de um paciente, adicione mais um elemento à lista de cada paciente contendo o IMC do paciente. Verifique também se é 'baixo', 'normal' ou 'alto' segundo os padrões da OMS em que normal é entre 18.5 e 24.9.\n",
        "\n",
        "Reflexão: por que no problema anterior temos que criar uma nova lista, e não podemos adicionar os dados de cada indivíduo à tupla?"
      ]
    },
    {
      "cell_type": "code",
      "execution_count": 79,
      "metadata": {
        "id": "x0N-CrDQeUrc",
        "outputId": "217c5753-0a9d-4a1f-dae1-97e0c873be75",
        "colab": {
          "base_uri": "https://localhost:8080/"
        }
      },
      "outputs": [
        {
          "output_type": "execute_result",
          "data": {
            "text/plain": [
              "[[1.8, 90], [1.65, 75], [1.91, 70]]"
            ]
          },
          "metadata": {},
          "execution_count": 79
        }
      ],
      "source": [
        "altura_peso = [[1.80, 90], [1.65, 75], [1.91, 70]]\n",
        "k = 0\n",
        "\n",
        "for i, j, k in altura_peso:\n",
        "  calc = j / (i ** 2)\n",
        "  altura_peso[k] =  altura_peso.append(calc)\n",
        "\n",
        "altura_peso"
      ]
    },
    {
      "cell_type": "code",
      "source": [],
      "metadata": {
        "id": "uHHaUA56fx2c"
      },
      "execution_count": null,
      "outputs": []
    }
  ],
  "metadata": {
    "kernelspec": {
      "display_name": "Python 3",
      "language": "python",
      "name": "python3"
    },
    "language_info": {
      "codemirror_mode": {
        "name": "ipython",
        "version": 3
      },
      "file_extension": ".py",
      "mimetype": "text/x-python",
      "name": "python",
      "nbconvert_exporter": "python",
      "pygments_lexer": "ipython3",
      "version": "3.8.5"
    },
    "colab": {
      "provenance": []
    }
  },
  "nbformat": 4,
  "nbformat_minor": 0
}